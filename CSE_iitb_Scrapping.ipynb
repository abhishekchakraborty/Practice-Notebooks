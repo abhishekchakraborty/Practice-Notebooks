{
 "cells": [
  {
   "cell_type": "code",
   "execution_count": 1,
   "metadata": {
    "collapsed": true
   },
   "outputs": [],
   "source": [
    "import requests"
   ]
  },
  {
   "cell_type": "code",
   "execution_count": 2,
   "metadata": {
    "collapsed": false
   },
   "outputs": [
    {
     "data": {
      "text/plain": [
       "200"
      ]
     },
     "execution_count": 2,
     "metadata": {},
     "output_type": "execute_result"
    }
   ],
   "source": [
    "page = requests.get(\"https://www.cse.iitb.ac.in/page14\")\n",
    "page.status_code"
   ]
  },
  {
   "cell_type": "code",
   "execution_count": 4,
   "metadata": {
    "collapsed": true
   },
   "outputs": [],
   "source": [
    "from bs4 import BeautifulSoup"
   ]
  },
  {
   "cell_type": "code",
   "execution_count": 5,
   "metadata": {
    "collapsed": true
   },
   "outputs": [],
   "source": [
    "soup = BeautifulSoup(page.content, 'html.parser')"
   ]
  },
  {
   "cell_type": "code",
   "execution_count": 17,
   "metadata": {
    "collapsed": false
   },
   "outputs": [
    {
     "data": {
      "text/plain": [
       "bs4.element.Tag"
      ]
     },
     "execution_count": 17,
     "metadata": {},
     "output_type": "execute_result"
    }
   ],
   "source": [
    "cse_faculty_div = soup.find('div', id='main' )\n",
    "type(cse_faculty_div)"
   ]
  },
  {
   "cell_type": "code",
   "execution_count": 31,
   "metadata": {
    "collapsed": false
   },
   "outputs": [],
   "source": [
    "faculty_names_b = cse_faculty_div.select('div div table tr td p table tr td a b')"
   ]
  },
  {
   "cell_type": "code",
   "execution_count": 29,
   "metadata": {
    "collapsed": false
   },
   "outputs": [
    {
     "name": "stdout",
     "output_type": "stream",
     "text": [
      "['Bharat Adsul', 'Varsha Apte', 'Kavi Arya', 'Suyash P. Awate', 'Umesh Bellur', 'Pushpak Bhattacharya', 'Supratim Biswas', 'Soumen Chakrabarti', 'Supratik Chakraborty', 'Sharat Chandran', 'Siddhartha Chaudhuri', 'Parag Chaudhuri', 'Kameswari Chebrolu', 'Om P. Damani', 'Ajit A Diwan', 'Ashutosh Gupta', 'Sridhar Iyer', 'Rushikesh K. Joshi', 'Preethi Jyothi', 'Shivaram Kalyanakrishnan', 'Uday Khedker (Department Head)', 'Purushottam Kulkarni', 'Nutan Limaye', 'Bernard Menezes', 'Deepak B. Phatak', 'Manoj Prabhakaran', 'Ajit Rajwade', 'Krithi Ramamritham', 'Bhaskar Raman', 'Ganesh Ramkrishnan', 'Abhiram Ranade', 'Krishna S', 'Akshay S.', 'Amitabha Sanyal', 'Sunita Sarawagi', 'Nandlal L. Sarda', 'G. Sivakumar', 'Milind Sohoni', 'S. Sudarshan', 'Sundar Vishwanathan', 'Mythili Vutukuru', 'Arjun Jain', 'R.K Shyamasundar ', 'Vinayak Naik', 'Vinay Riberio']\n"
     ]
    }
   ],
   "source": [
    "faculty_names = [ item.get_text() for item in faculty_names_b ]\n",
    "print(faculty_names)"
   ]
  },
  {
   "cell_type": "code",
   "execution_count": 38,
   "metadata": {
    "collapsed": true
   },
   "outputs": [],
   "source": [
    "f = open('cse_faculty_names.txt', mode='w')"
   ]
  },
  {
   "cell_type": "code",
   "execution_count": 39,
   "metadata": {
    "collapsed": true
   },
   "outputs": [],
   "source": [
    "f.writelines([ name + '\\n' for name in faculty_names ])"
   ]
  },
  {
   "cell_type": "code",
   "execution_count": 40,
   "metadata": {
    "collapsed": true
   },
   "outputs": [],
   "source": [
    "f.close()"
   ]
  },
  {
   "cell_type": "code",
   "execution_count": null,
   "metadata": {
    "collapsed": true
   },
   "outputs": [],
   "source": []
  }
 ],
 "metadata": {
  "anaconda-cloud": {},
  "kernelspec": {
   "display_name": "Python [conda root]",
   "language": "python",
   "name": "conda-root-py"
  },
  "language_info": {
   "codemirror_mode": {
    "name": "ipython",
    "version": 3
   },
   "file_extension": ".py",
   "mimetype": "text/x-python",
   "name": "python",
   "nbconvert_exporter": "python",
   "pygments_lexer": "ipython3",
   "version": "3.5.2"
  }
 },
 "nbformat": 4,
 "nbformat_minor": 1
}
